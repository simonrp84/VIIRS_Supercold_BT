{
 "cells": [
  {
   "cell_type": "markdown",
   "metadata": {},
   "source": [
    "# Compute some basic stats about the cloud anvil\n",
    "\n",
    "\n",
    "#### This is primarily for interest, although the results are plotted on Figure 2\n",
    "\n",
    "\n",
    "Much of the below is manual, based on examining the raw image to find the extent of the anvil:\n",
    "This is inefficient and time-consuming, but fine for a single case study like this and, at least here, works better than automated techniques for finding the anvil extent."
   ]
  },
  {
   "cell_type": "code",
   "execution_count": null,
   "metadata": {},
   "outputs": [],
   "source": [
    "import matplotlib.pyplot as plt\n",
    "from satpy import Scene\n",
    "from glob import glob\n",
    "import numpy as np"
   ]
  },
  {
   "cell_type": "code",
   "execution_count": null,
   "metadata": {},
   "outputs": [],
   "source": [
    "# Load VIIRS data\n",
    "# Set this to wherever you have VJ02 data\n",
    "viirs_dir = '/gf2/eodg/SRP001_PROUD_TURBREP/Supercold/VIIRS_J/'\n",
    "\n",
    "# Search for files, specify part of timestamp to only get those associated with the supercold BT\n",
    "files = glob(viirs_dir + '*1336*.nc')\n",
    "\n",
    "# Initialise scene and load data\n",
    "scn_vi = Scene(files, reader='viirs_l1b')\n",
    "scn_vi.load(['I05'], calibration='brightness_temperature')\n",
    "viirs_arr = np.array(scn_vi['I05'])"
   ]
  },
  {
   "cell_type": "code",
   "execution_count": null,
   "metadata": {},
   "outputs": [],
   "source": [
    "# Remove low temps\n",
    "pts = (viirs_arr < 150).nonzero()\n",
    "viirs_arr[pts] = np.nan\n",
    "\n",
    "# Rough anvil extent\n",
    "x_min = 0\n",
    "x_max = 1357\n",
    "\n",
    "y_min = 1080\n",
    "y_max = 2053\n",
    "\n",
    "# Subset to the above extent\n",
    "cut_arr = viirs_arr[y_min:y_max, x_min:x_max]\n",
    "print(np.nanmin(cut_arr), np.nanmean(cut_arr), np.nanmax(cut_arr))\n",
    "\n",
    "c_arr2 = cut_arr.ravel()\n",
    "\n",
    "# Get histogram\n",
    "vals, bins, chart = plt.hist(c_arr2, bins=160, range=(160,240), log=True)\n",
    "\n",
    "# Find maximum bin and print value, approximates anvil temp\n",
    "maxv = (np.nanmax(vals) == vals).nonzero()[0][0]\n",
    "print('VIIRS anvil temperatures:', bins[maxv], vals[maxv])"
   ]
  },
  {
   "cell_type": "code",
   "execution_count": null,
   "metadata": {},
   "outputs": [],
   "source": [
    "# Load AHI data\n",
    "# Set this to wherever you have AHI data\n",
    "ahi_dir = '/gf2/eodg/SRP001_PROUD_TURBREP/Supercold/AHI_F/29/13/'\n",
    "\n",
    "# Search for files, specify part of timestamp to only get those associated with the supercold BT.\n",
    "files = glob(ahi_dir + '*_1330_*.DAT')\n",
    "\n",
    "# Initialise scene and load data\n",
    "scn_ahi = Scene(files, reader='ahi_hsd')\n",
    "scn_ahi.load(['B14'], calibration='brightness_temperature')\n",
    "ahi_arr = np.array(scn_ahi['B14'])"
   ]
  },
  {
   "cell_type": "code",
   "execution_count": null,
   "metadata": {},
   "outputs": [],
   "source": [
    "# Remove low temps\n",
    "pts = (ahi_arr < 150).nonzero()\n",
    "ahi_arr[pts] = np.nan\n",
    "\n",
    "# Rough anvil extent\n",
    "x_min = 4000\n",
    "x_max = 4080\n",
    "\n",
    "y_min = 2902\n",
    "y_max = 3000\n",
    "\n",
    "# Subset to the above extent\n",
    "cut_arr = ahi_arr[y_min:y_max, x_min:x_max]\n",
    "print(np.nanmin(cut_arr), np.nanmean(cut_arr), np.nanmax(cut_arr))\n",
    "\n",
    "c_arr2 = cut_arr.ravel()\n",
    "\n",
    "# Get histogram\n",
    "vals, bins, chart = plt.hist(c_arr2, bins=160, range=(160,240), log=True)\n",
    "\n",
    "# Find maximum bin and print value, approximates anvil temp\n",
    "maxv = (np.nanmax(vals) == vals).nonzero()[0][0]\n",
    "print('AHI anvil temperatures:', bins[maxv], vals[maxv])"
   ]
  },
  {
   "cell_type": "code",
   "execution_count": null,
   "metadata": {},
   "outputs": [],
   "source": [
    "# Load ABI data\n",
    "# Set this to wherever you have ABI data\n",
    "abi_dir = '/gf2/eodg/SRP001_PROUD_TURBREP/Supercold/ABI/'\n",
    "\n",
    "# Search for files, specify part of timestamp to only get those associated with the supercold BT.\n",
    "# There should be only 1 file here.\n",
    "files = glob(abi_dir + '*s20183631330*.nc')\n",
    "\n",
    "# Initialise scene and load data\n",
    "scn_abi = Scene(files, reader='abi_l1b')\n",
    "scn_abi.load(['C14'], calibration='brightness_temperature')\n",
    "abi_arr = np.array(scn_abi['C14'])"
   ]
  },
  {
   "cell_type": "code",
   "execution_count": null,
   "metadata": {},
   "outputs": [],
   "source": [
    "# Remove low temps\n",
    "pts = (abi_arr < 150).nonzero()\n",
    "abi_arr[pts] = np.nan\n",
    "\n",
    "# Rough anvil extent\n",
    "x_min = 177\n",
    "x_max = 237\n",
    "\n",
    "y_min = 2847\n",
    "y_max = 2907\n",
    "\n",
    "# Subset to the above extent\n",
    "cut_arr = abi_arr[y_min:y_max, x_min:x_max]\n",
    "print(np.nanmin(cut_arr), np.nanmean(cut_arr), np.nanmax(cut_arr))\n",
    "\n",
    "c_arr2 = cut_arr.ravel()\n",
    "\n",
    "# Get histogram\n",
    "vals, bins, chart = plt.hist(c_arr2, bins=160, range=(160,240), log=True)\n",
    "\n",
    "# Find maximum bin and print value, approximates anvil temp\n",
    "maxv = (np.nanmax(vals) == vals).nonzero()[0][0]\n",
    "print('ABI anvil temperatures:', bins[maxv], vals[maxv])"
   ]
  }
 ],
 "metadata": {
  "kernelspec": {
   "display_name": "Python 3",
   "language": "python",
   "name": "python3"
  },
  "language_info": {
   "codemirror_mode": {
    "name": "ipython",
    "version": 3
   },
   "file_extension": ".py",
   "mimetype": "text/x-python",
   "name": "python",
   "nbconvert_exporter": "python",
   "pygments_lexer": "ipython3",
   "version": "3.8.6"
  }
 },
 "nbformat": 4,
 "nbformat_minor": 4
}
