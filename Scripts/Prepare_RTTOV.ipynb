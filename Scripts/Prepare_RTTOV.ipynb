{
 "cells": [
  {
   "cell_type": "markdown",
   "metadata": {},
   "source": [
    "# Prepare VIIRS and ancillary data for RTTOV\n",
    "\n",
    "### This is used in Figure S2 for creating IASI spectra + per-sensor simulated BTs\n",
    "\n",
    "Here, the VIIRS I-band BTs are used to simulate a cloud at approximate the right location. The ERA5 data from ECMWF is used to create the atmospheric profile (radiosonde is a bit too noisy for RTTOV to work nicely) and we assume an above-cloud lapse rate of -7.34K/km for the overshooting top."
   ]
  },
  {
   "cell_type": "code",
   "execution_count": 83,
   "metadata": {
    "pycharm": {
     "name": "#%%\n"
    }
   },
   "outputs": [],
   "source": [
    "from Meteo_Scripts.consts import get_avec, get_bvec\n",
    "import Meteo_Scripts.proc_prof as pp\n",
    "import matplotlib.pyplot as plt\n",
    "from datetime import datetime\n",
    "import Meteo_Scripts.pyr_funcs as pyf\n",
    "from satpy import Scene\n",
    "from glob import glob\n",
    "import xarray as xr\n",
    "import numpy as np\n",
    "import pyrttov\n",
    "import os\n",
    "\n",
    "np.set_printoptions(precision=3)\n",
    "np.set_printoptions(suppress=True)"
   ]
  },
  {
   "cell_type": "code",
   "execution_count": 84,
   "metadata": {},
   "outputs": [],
   "source": [
    "# First, set the file location for the various data\n",
    "# ERA5 data\n",
    "ecmwf_era5_dir = '/network/aopp/matin/eodg/ecmwf/ERA5/'\n",
    "\n",
    "# VIIRS SDR data\n",
    "viirs_data_globber = '/gf2/eodg/SRP001_PROUD_TURBREP/Supercold/VIIRSI/*d20181229_t13*.h5'\n",
    "\n",
    "# Subsetted ERA5 (input + output)\n",
    "infile_ml = '../data/Meteo/ML.nc'\n",
    "infile_sfc = '../data/Meteo/SFC.nc'\n",
    "\n",
    "# RTTOV dirs\n",
    "rttov_top, ir_atlas_dir, brdf_atlas_dir, top_rttov_coef = pp.set_rttov_dirs()\n",
    "\n",
    "# Select actual coefficient files, here for NOAA-20 VIIRS\n",
    "viirs_rtc = top_rttov_coef + 'rttov9pred54L/rtcoef_noaa_20_viirs.dat'\n",
    "viirs_cld = top_rttov_coef + 'cldaer_visir/sccldcoef_noaa_20_viirs.dat'\n",
    "\n",
    "# Size of the VIIRS I-band gridbox centred on the supercold BT\n",
    "# this value is the half the box width: bbox = [cold_x - val: cold_x+val, cold_y - val: cold_y+val]\n",
    "grid_half_width = 100"
   ]
  },
  {
   "cell_type": "code",
   "execution_count": 85,
   "metadata": {},
   "outputs": [],
   "source": [
    "# Set the supercold BT properties\n",
    "dater = datetime(2018, 12, 29, 13, 38, 0)\n",
    "\n",
    "yrstr = dater.strftime(\"%Y\")\n",
    "\n",
    "# Cold pixel location\n",
    "storm_lat = -3.2609048\n",
    "storm_lon = 163.2608\n",
    "\n",
    "# VIIRS viewing geometry.\n",
    "vza = 7.91\n",
    "vaa = 360. - 99.311\n",
    "sza = 41.15\n",
    "saa = 360. - 146.494\n",
    "\n",
    "satangs = np.array([vza, vaa, sza, saa], dtype=np.float64).transpose()"
   ]
  },
  {
   "cell_type": "code",
   "execution_count": 123,
   "metadata": {},
   "outputs": [],
   "source": [
    "# Height estimate is currently unused.\n",
    "height_est = 20.1  # km\n",
    "\n",
    "ice_sch = 1  # Baum\n",
    "ice_parm = 4\n",
    "\n",
    "# Range of IWC for upper cloud point: min, max, nbins\n",
    "cir_range = (0, 10, 101)\n",
    "\n",
    "# Range of cfac for upper cloud point: min, max, nbins\n",
    "cfr_range = (0.0, 1, 31)\n",
    "\n",
    "# upper bin for cloud\n",
    "up_bin = 53 # approx. 75hPa\n",
    "\n",
    "# tropopause bin\n",
    "trop_bin = 55\n",
    "\n",
    "# Number of threads for RTTOV\n",
    "n_threads = 50"
   ]
  },
  {
   "cell_type": "code",
   "execution_count": 124,
   "metadata": {},
   "outputs": [],
   "source": [
    "# Retrieve the input profiles from ECMWF data, clouds from above conditions\n",
    "in_prof, nlevs, nprofs = pp.get_data(infile_ml,\n",
    "                                    infile_sfc,\n",
    "                                    storm_lat,\n",
    "                                    storm_lon,\n",
    "                                    satangs,\n",
    "                                    ice_sch,\n",
    "                                    ice_parm,\n",
    "                                    cir_range,\n",
    "                                    cfr_range,\n",
    "                                    up_bin,\n",
    "                                    dater)\n",
    "\n",
    "# Modify the profile based on a typical atmospheric lapse rate. Only points\n",
    "# above the tropopause are modified. This accounts for overshooting tops.\n",
    "for i in range(trop_bin, trop_bin-3, -1):\n",
    "    in_prof.T[:,i] = in_prof.T[:,i+1] - 7.34"
   ]
  },
  {
   "cell_type": "code",
   "execution_count": 125,
   "metadata": {
    "scrolled": true
   },
   "outputs": [
    {
     "name": "stdout",
     "output_type": "stream",
     "text": [
      "0\n",
      "5\n"
     ]
    },
    {
     "name": "stderr",
     "output_type": "stream",
     "text": [
      "Load successful >>>>> inst_id : 1, nchannels : 5.\n",
      "Deallocating this inst_id.\n",
      "IR emissivity atlas loaded successfully\n",
      "BRDF atlas loaded successfully\n",
      "Atlas deallocated.\n",
      "Atlas deallocated.\n"
     ]
    }
   ],
   "source": [
    "# All VIIRS Channels. Note, RTTOV uses weird numbering as it combines I and M bands\n",
    "chan_list_viirsi = (1, 2, 13, 16, 21)\n",
    "\n",
    "# Create RTTOV object\n",
    "viirs_i_rttov, nchan_viirsi = pp.setup_rttov(chan_list_viirsi, viirs_rtc, viirs_cld, in_prof, n_threads)\n",
    "\n",
    "# Initialise surface conditions\n",
    "irAtlas, brdfAtlas = pp.init_atlas(ir_atlas_dir, brdf_atlas_dir, in_prof.DateTimes[0][1])\n",
    "pp.setup_surf_r_e(viirs_i_rttov, nprofs, nchan_viirsi, irAtlas, brdfAtlas)"
   ]
  },
  {
   "cell_type": "code",
   "execution_count": 126,
   "metadata": {},
   "outputs": [],
   "source": [
    "# Run RTTOV itself. Note, this is time consuming.\n",
    "viirs_i_rttov.runDirect()"
   ]
  },
  {
   "cell_type": "markdown",
   "metadata": {},
   "source": [
    "### The next section of code finds the best cloud properties model\n",
    "\n",
    "It uses the RTTOV runs defined in the code above and compares them to VIIRS IR channel information.\n",
    "\n",
    "You can, in theory, also use the VIS channels (they're simulated by RTTOV) but I found that the simulation\n",
    "is not great, most likely due to the rather odd cloud we're simulating here. Instead, I just used the I5 band.\n",
    "This is not ideal, of course, but works reasonably well - especially as all we really want here is a reasonably \n",
    "representative cloud top that we can use for the comparison of various satellite BTs + simulated IASI."
   ]
  },
  {
   "cell_type": "code",
   "execution_count": 117,
   "metadata": {},
   "outputs": [],
   "source": [
    "# Retrieve the VIIRS I band BTs, even though we don't use I4 it's loaded just in case\n",
    "infiles = glob(viirs_data_globber)\n",
    "scn = Scene(infiles, reader='viirs_sdr')\n",
    "scn.load(['I04', 'I05'])\n",
    "i4 = np.array(scn['I04'])\n",
    "i5 = np.array(scn['I05'])\n",
    "\n",
    "pt = (np.nanmin(i5) == i5).nonzero()\n",
    "ref_i4 = i4[pt[0][0], pt[1][0]]\n",
    "ref_i5 = i5[pt[0][0], pt[1][0]]"
   ]
  },
  {
   "cell_type": "code",
   "execution_count": 128,
   "metadata": {},
   "outputs": [
    {
     "name": "stdout",
     "output_type": "stream",
     "text": [
      "53 199 2.2 0.63  161.955 161.949  39.541   0.006 0.006\n"
     ]
    }
   ],
   "source": [
    "# Set up output array\n",
    "ciprof = []  # Best cloud IWC\n",
    "cfprof = []  # Best cloud fraction\n",
    "diffs = []   # BT diff between simulated and actual.\n",
    "\n",
    "\n",
    "# Difference between simulated and actual conditions\n",
    "i4_d = np.abs(ref_i4 - viirs_i_rttov.BtRefl[:,3])\n",
    "i5_d = np.abs(ref_i5 - viirs_i_rttov.BtRefl[:,4])\n",
    "\n",
    "# Total difference. We only look at i5 here as solar irradiance affects\n",
    "# the i4 band. RTTOV has trouble modelling this as we're dealing with a\n",
    "# relatively abnormal type of cloud in this study.\n",
    "delt = np.sqrt(i5_d*i5_d)\n",
    "# Find the best match between profile and data\n",
    "minpt = (np.nanmin(delt) == delt).nonzero()[0][0]\n",
    "\n",
    "# Append best match profiles to the output arrays\n",
    "ciprof.append(in_prof.Cirr[minpt,:])\n",
    "cfprof.append(in_prof.Cfrac[minpt,:])\n",
    "diffs.append(delt[minpt])\n",
    "\n",
    "# Print some useful information\n",
    "print(\"{iv} {jv} {cirr:03.1f} {cfrac:3.2f} {origbt: 7.3f} {outbt:7.3f} {bt1: 7.3f} {bt2: 7.3f} {diff:5.3f}\".format(\n",
    "          iv=i,\n",
    "          jv=j,\n",
    "          cirr=in_prof.Cirr[minpt,up_bin],\n",
    "          cfrac=in_prof.Cfrac[minpt,up_bin],\n",
    "          origbt=ref_i5,\n",
    "          outbt=viirs_i_rttov.BtRefl[minpt,4],\n",
    "          bt1=i4_d[minpt],\n",
    "          bt2=i5_d[minpt],\n",
    "          diff=delt[minpt]))\n",
    "\n",
    "# These arrays contain the best profiles for the I band pixel\n",
    "ciprof = np.array(ciprof)\n",
    "cfprof = np.array(cfprof)\n",
    "diffs = np.array(diffs)"
   ]
  },
  {
   "cell_type": "code",
   "execution_count": 133,
   "metadata": {},
   "outputs": [],
   "source": [
    "# Save these arrays to file, to be used in other scripts\n",
    "out_arr = xr.Dataset()\n",
    "out_arr['CIRR'] = (('x','y'), ciprof)\n",
    "out_arr['CFRAC'] = (('x','y'), cfprof)\n",
    "out_arr.to_netcdf('../data/Meteo/good_profs_iband.nc')"
   ]
  },
  {
   "cell_type": "code",
   "execution_count": 134,
   "metadata": {},
   "outputs": [
    {
     "data": {
      "text/plain": [
       "[<matplotlib.lines.Line2D at 0x7f5f920597c0>]"
      ]
     },
     "execution_count": 134,
     "metadata": {},
     "output_type": "execute_result"
    },
    {
     "data": {
      "image/png": "[encoded data removed]",
      "text/plain": [
       "<Figure size 432x288 with 1 Axes>"
      ]
     },
     "metadata": {
      "needs_background": "light"
     },
     "output_type": "display_data"
    }
   ],
   "source": [
    "# Plot the differences between simulated and actual BT\n",
    "# This can be illuminating to see if a particular cloud profile type works better than others\n",
    "plt.plot(delt)"
   ]
  },
  {
   "cell_type": "code",
   "execution_count": null,
   "metadata": {},
   "outputs": [],
   "source": []
  }
 ],
 "metadata": {
  "kernelspec": {
   "display_name": "Python 3",
   "language": "python",
   "name": "python3"
  },
  "language_info": {
   "codemirror_mode": {
    "name": "ipython",
    "version": 3
   },
   "file_extension": ".py",
   "mimetype": "text/x-python",
   "name": "python",
   "nbconvert_exporter": "python",
   "pygments_lexer": "ipython3",
   "version": "3.8.6"
  }
 },
 "nbformat": 4,
 "nbformat_minor": 4
}
