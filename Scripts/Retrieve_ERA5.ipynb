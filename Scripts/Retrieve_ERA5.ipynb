{
 "cells": [
  {
   "cell_type": "markdown",
   "metadata": {},
   "source": [
    "# Retrieve ERA5 data for the super cold BT\n",
    "\n",
    "### This requires a Copernicus Climate Data Store account and the `cdsapi` library: https://cds.climate.copernicus.eu/api-how-to\n",
    "\n",
    "Most of this code is a modified version of: https://confluence.ecmwf.int/display/CKB/ERA5%3A+compute+geopotential+on+model+levels\n"
   ]
  },
  {
   "cell_type": "code",
   "execution_count": null,
   "metadata": {},
   "outputs": [],
   "source": [
    "from datetime import datetime\n",
    "import cdsapi"
   ]
  },
  {
   "cell_type": "code",
   "execution_count": null,
   "metadata": {},
   "outputs": [],
   "source": [
    "# Set up initial variables and the CDS client\n",
    "c = cdsapi.Client()\n",
    "\n",
    "storm_date = datetime(2018, 12, 29, 13, 0, 0)\n",
    "storm_lat = -3.2609048\n",
    "storm_lon = 163.2608\n",
    "\n",
    "# Area to retrieve: North, West, South, East\n",
    "# Here we set a 20x20 degree region centred on the cold BT\n",
    "proc_area = [storm_lat + 10, storm_lon - 10,\n",
    "             storm_lat - 10, storm_lon +10]\n",
    "\n",
    "cls = \"ea\"\n",
    "expver = \"1\"\n",
    "levtype = \"ml\"\n",
    "stream = \"oper\"\n",
    "tp = \"an\"\n",
    "date = storm_date.strftime(\"%Y-%m-%d\")\n",
    "time = storm_date.strftime(\"%H:%M:%S\")\n",
    "\n",
    "# Model level parameters\n",
    "ml_parms = '129/130/133/203'\n",
    "\n",
    "# Surface parameters\n",
    "sfc_params = '59/129/134/137/165/166/167/168/235'"
   ]
  },
  {
   "cell_type": "code",
   "execution_count": null,
   "metadata": {},
   "outputs": [],
   "source": [
    "# This is the model level data\n",
    "# Note that geopotential (129) is on model level even though it's actually a surface field\n",
    "c.retrieve('reanalysis-era5-complete', {\n",
    "    'class'   : cls,\n",
    "    'date'    : date,\n",
    "    'expver'  : expver,\n",
    "    'levelist': '1/2/3/4/5/6/7/8/9/10/11/12/13/14/15/16/17/18/19/20/21/22/23/24/25/26/27/28/29/30/31/32/33/34/35/36/37/38/39/40/41/42/43/44/45/46/47/48/49/50/51/52/53/54/55/56/57/58/59/60/61/62/63/64/65/66/67/68/69/70/71/72/73/74/75/76/77/78/79/80/81/82/83/84/85/86/87/88/89/90/91/92/93/94/95/96/97/98/99/100/101/102/103/104/105/106/107/108/109/110/111/112/113/114/115/116/117/118/119/120/121/122/123/124/125/126/127/128/129/130/131/132/133/134/135/136/137',\n",
    "    'levtype' : 'ml',\n",
    "    'param'   : ml_parms,\n",
    "    'stream'  : stream,\n",
    "    'time'    : time,\n",
    "    'type'    : tp,\n",
    "    'grid'    : [0.25, 0.25],\n",
    "    'area'    : proc_area,\n",
    "    'format'  : 'netcdf', \n",
    "}, '../data/Meteo/ML.nc')"
   ]
  },
  {
   "cell_type": "code",
   "execution_count": null,
   "metadata": {},
   "outputs": [],
   "source": [
    "# This is the surface level data\n",
    "c.retrieve('reanalysis-era5-complete', {\n",
    "    'class'   : cls,\n",
    "    'date'    : date,\n",
    "    'expver'  : expver,\n",
    "    'levtype' : 'sfc',\n",
    "    'param'   : sfc_params,\n",
    "    'stream'  : stream,\n",
    "    'time'    : time,\n",
    "    'type'    : tp,\n",
    "    'grid'    : [0.25, 0.25],\n",
    "    'area'    : proc_area,\n",
    "    'format'  : 'netcdf', \n",
    "}, '../data/Meteo/SFC.nc')"
   ]
  }
 ],
 "metadata": {
  "kernelspec": {
   "display_name": "Python 3",
   "language": "python",
   "name": "python3"
  },
  "language_info": {
   "codemirror_mode": {
    "name": "ipython",
    "version": 3
   },
   "file_extension": ".py",
   "mimetype": "text/x-python",
   "name": "python",
   "nbconvert_exporter": "python",
   "pygments_lexer": "ipython3",
   "version": "3.8.6"
  }
 },
 "nbformat": 4,
 "nbformat_minor": 4
}
